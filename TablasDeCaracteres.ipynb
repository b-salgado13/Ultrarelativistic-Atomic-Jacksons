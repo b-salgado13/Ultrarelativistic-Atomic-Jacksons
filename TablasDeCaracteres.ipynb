{
 "cells": [
  {
   "cell_type": "markdown",
   "metadata": {},
   "source": []
  },
  {
   "cell_type": "code",
   "execution_count": 11,
   "metadata": {},
   "outputs": [],
   "source": [
    "import pandas as pd\n",
    "import numpy as np"
   ]
  },
  {
   "cell_type": "markdown",
   "metadata": {},
   "source": [
    "# Grupos canónicos "
   ]
  },
  {
   "cell_type": "code",
   "execution_count": 12,
   "metadata": {},
   "outputs": [
    {
     "data": {
      "text/html": [
       "<div>\n",
       "<style scoped>\n",
       "    .dataframe tbody tr th:only-of-type {\n",
       "        vertical-align: middle;\n",
       "    }\n",
       "\n",
       "    .dataframe tbody tr th {\n",
       "        vertical-align: top;\n",
       "    }\n",
       "\n",
       "    .dataframe thead th {\n",
       "        text-align: right;\n",
       "    }\n",
       "</style>\n",
       "<table border=\"1\" class=\"dataframe\">\n",
       "  <thead>\n",
       "    <tr style=\"text-align: right;\">\n",
       "      <th></th>\n",
       "      <th>E</th>\n",
       "      <th>C_2^z</th>\n",
       "      <th>σ_v^{xz}</th>\n",
       "      <th>σ_v^{yz}</th>\n",
       "      <th>Traslaciones</th>\n",
       "      <th>Rotaciones</th>\n",
       "      <th>Dobles</th>\n",
       "    </tr>\n",
       "  </thead>\n",
       "  <tbody>\n",
       "    <tr>\n",
       "      <th>g(c)</th>\n",
       "      <td>1</td>\n",
       "      <td>1</td>\n",
       "      <td>1</td>\n",
       "      <td>1</td>\n",
       "      <td></td>\n",
       "      <td></td>\n",
       "      <td></td>\n",
       "    </tr>\n",
       "    <tr>\n",
       "      <th>A1</th>\n",
       "      <td>1</td>\n",
       "      <td>1</td>\n",
       "      <td>1</td>\n",
       "      <td>1</td>\n",
       "      <td>z</td>\n",
       "      <td></td>\n",
       "      <td>x^2, y^2, z^2</td>\n",
       "    </tr>\n",
       "    <tr>\n",
       "      <th>A2</th>\n",
       "      <td>1</td>\n",
       "      <td>1</td>\n",
       "      <td>-1</td>\n",
       "      <td>-1</td>\n",
       "      <td></td>\n",
       "      <td>Rz</td>\n",
       "      <td>xy</td>\n",
       "    </tr>\n",
       "    <tr>\n",
       "      <th>B1</th>\n",
       "      <td>1</td>\n",
       "      <td>-1</td>\n",
       "      <td>1</td>\n",
       "      <td>-1</td>\n",
       "      <td>x</td>\n",
       "      <td>Rx</td>\n",
       "      <td>xz</td>\n",
       "    </tr>\n",
       "    <tr>\n",
       "      <th>B2</th>\n",
       "      <td>1</td>\n",
       "      <td>-1</td>\n",
       "      <td>-1</td>\n",
       "      <td>1</td>\n",
       "      <td>y</td>\n",
       "      <td>Ry</td>\n",
       "      <td>yz</td>\n",
       "    </tr>\n",
       "  </tbody>\n",
       "</table>\n",
       "</div>"
      ],
      "text/plain": [
       "      E  C_2^z  σ_v^{xz}  σ_v^{yz} Traslaciones Rotaciones          Dobles\n",
       "g(c)  1      1         1         1                                        \n",
       "A1    1      1         1         1            z              x^2, y^2, z^2\n",
       "A2    1      1        -1        -1                      Rz              xy\n",
       "B1    1     -1         1        -1            x         Rx              xz\n",
       "B2    1     -1        -1         1            y         Ry              yz"
      ]
     },
     "execution_count": 12,
     "metadata": {},
     "output_type": "execute_result"
    }
   ],
   "source": [
    "C2v = pd.DataFrame(\n",
    "    data = {\n",
    "        \"E\":            [1, 1, 1, 1, 1], \n",
    "        \"C_2^z\":       [1, 1, 1, -1, -1],\n",
    "        \"σ_v^{xz}\" :   [1, 1, -1, 1, -1],\n",
    "        \"σ_v^{yz}\":    [1, 1, -1, -1, 1],\n",
    "        \"Traslaciones\": [\" \",\"z\", \" \", \"x\", \"y\"],\n",
    "        \"Rotaciones\": [\" \",  \" \", \"Rz\", \"Rx\", \"Ry\"],\n",
    "        \"Dobles\": [\" \", \" x^2, y^2, z^2\", \"xy\", \"xz\", \"yz\"]\n",
    "        }, \n",
    "    index= [\"g(c)\",\"A1\", \"A2\", \"B1\", \"B2\"])\n",
    "C2v"
   ]
  },
  {
   "cell_type": "code",
   "execution_count": 13,
   "metadata": {},
   "outputs": [
    {
     "data": {
      "text/html": [
       "<div>\n",
       "<style scoped>\n",
       "    .dataframe tbody tr th:only-of-type {\n",
       "        vertical-align: middle;\n",
       "    }\n",
       "\n",
       "    .dataframe tbody tr th {\n",
       "        vertical-align: top;\n",
       "    }\n",
       "\n",
       "    .dataframe thead th {\n",
       "        text-align: right;\n",
       "    }\n",
       "</style>\n",
       "<table border=\"1\" class=\"dataframe\">\n",
       "  <thead>\n",
       "    <tr style=\"text-align: right;\">\n",
       "      <th></th>\n",
       "      <th>E</th>\n",
       "      <th>2C_3</th>\n",
       "      <th>3σ_v</th>\n",
       "      <th>Traslaciones</th>\n",
       "      <th>Rotaciones</th>\n",
       "      <th>Dobles</th>\n",
       "    </tr>\n",
       "  </thead>\n",
       "  <tbody>\n",
       "    <tr>\n",
       "      <th>g(c)</th>\n",
       "      <td>1</td>\n",
       "      <td>2</td>\n",
       "      <td>3</td>\n",
       "      <td></td>\n",
       "      <td></td>\n",
       "      <td></td>\n",
       "    </tr>\n",
       "    <tr>\n",
       "      <th>A1</th>\n",
       "      <td>1</td>\n",
       "      <td>1</td>\n",
       "      <td>1</td>\n",
       "      <td>z</td>\n",
       "      <td></td>\n",
       "      <td>z^2, x^2 + y^2</td>\n",
       "    </tr>\n",
       "    <tr>\n",
       "      <th>A2</th>\n",
       "      <td>1</td>\n",
       "      <td>1</td>\n",
       "      <td>-1</td>\n",
       "      <td></td>\n",
       "      <td>Rz</td>\n",
       "      <td></td>\n",
       "    </tr>\n",
       "    <tr>\n",
       "      <th>E</th>\n",
       "      <td>2</td>\n",
       "      <td>-1</td>\n",
       "      <td>0</td>\n",
       "      <td>(x, y)</td>\n",
       "      <td>(Rx, Ry)</td>\n",
       "      <td>(xy, x^2 - y^2), (xz, yz)</td>\n",
       "    </tr>\n",
       "  </tbody>\n",
       "</table>\n",
       "</div>"
      ],
      "text/plain": [
       "      E  2C_3  3σ_v Traslaciones Rotaciones                     Dobles\n",
       "g(c)  1     2     3                                                   \n",
       "A1    1     1     1            z                        z^2, x^2 + y^2\n",
       "A2    1     1    -1                      Rz                           \n",
       "E     2    -1     0       (x, y)   (Rx, Ry)  (xy, x^2 - y^2), (xz, yz)"
      ]
     },
     "execution_count": 13,
     "metadata": {},
     "output_type": "execute_result"
    }
   ],
   "source": [
    "C3v = pd.DataFrame(\n",
    "    data = {\n",
    "        \"E\":    [1, 1,1,2], \n",
    "        \"2C_3\": [2, 1,1,-1],\n",
    "        \"3σ_v\" :[3, 1, -1, 0],\n",
    "        \"Traslaciones\": [\" \",\"z\", \" \", \"(x, y)\"],\n",
    "        \"Rotaciones\": [\" \", \" \", \"Rz\", \"(Rx, Ry)\"],\n",
    "        \"Dobles\": [\" \", \"z^2, x^2 + y^2\", \" \", \"(xy, x^2 - y^2), (xz, yz)\"]\n",
    "        }, \n",
    "    index= [\"g(c)\",\"A1\", \"A2\", \"E\"])\n",
    "C3v"
   ]
  },
  {
   "cell_type": "code",
   "execution_count": 14,
   "metadata": {},
   "outputs": [
    {
     "data": {
      "text/html": [
       "<div>\n",
       "<style scoped>\n",
       "    .dataframe tbody tr th:only-of-type {\n",
       "        vertical-align: middle;\n",
       "    }\n",
       "\n",
       "    .dataframe tbody tr th {\n",
       "        vertical-align: top;\n",
       "    }\n",
       "\n",
       "    .dataframe thead th {\n",
       "        text-align: right;\n",
       "    }\n",
       "</style>\n",
       "<table border=\"1\" class=\"dataframe\">\n",
       "  <thead>\n",
       "    <tr style=\"text-align: right;\">\n",
       "      <th></th>\n",
       "      <th>E</th>\n",
       "      <th>2C_4</th>\n",
       "      <th>C_2</th>\n",
       "      <th>2σ_v</th>\n",
       "      <th>2σ_d</th>\n",
       "      <th>Traslaciones</th>\n",
       "      <th>Rotaciones</th>\n",
       "      <th>Dobles</th>\n",
       "    </tr>\n",
       "  </thead>\n",
       "  <tbody>\n",
       "    <tr>\n",
       "      <th>g(c)</th>\n",
       "      <td>1</td>\n",
       "      <td>2</td>\n",
       "      <td>1</td>\n",
       "      <td>2</td>\n",
       "      <td>2</td>\n",
       "      <td></td>\n",
       "      <td></td>\n",
       "      <td></td>\n",
       "    </tr>\n",
       "    <tr>\n",
       "      <th>A1</th>\n",
       "      <td>1</td>\n",
       "      <td>1</td>\n",
       "      <td>1</td>\n",
       "      <td>1</td>\n",
       "      <td>1</td>\n",
       "      <td>z</td>\n",
       "      <td></td>\n",
       "      <td>z^2, x^2 + y^2</td>\n",
       "    </tr>\n",
       "    <tr>\n",
       "      <th>A2</th>\n",
       "      <td>1</td>\n",
       "      <td>1</td>\n",
       "      <td>1</td>\n",
       "      <td>-1</td>\n",
       "      <td>-1</td>\n",
       "      <td></td>\n",
       "      <td>Rz</td>\n",
       "      <td></td>\n",
       "    </tr>\n",
       "    <tr>\n",
       "      <th>B1</th>\n",
       "      <td>1</td>\n",
       "      <td>-1</td>\n",
       "      <td>1</td>\n",
       "      <td>1</td>\n",
       "      <td>-1</td>\n",
       "      <td></td>\n",
       "      <td></td>\n",
       "      <td>x^2-y^2</td>\n",
       "    </tr>\n",
       "    <tr>\n",
       "      <th>B2</th>\n",
       "      <td>1</td>\n",
       "      <td>-1</td>\n",
       "      <td>1</td>\n",
       "      <td>-1</td>\n",
       "      <td>1</td>\n",
       "      <td></td>\n",
       "      <td></td>\n",
       "      <td>xy</td>\n",
       "    </tr>\n",
       "    <tr>\n",
       "      <th>E</th>\n",
       "      <td>2</td>\n",
       "      <td>0</td>\n",
       "      <td>-2</td>\n",
       "      <td>0</td>\n",
       "      <td>0</td>\n",
       "      <td>(x, y)</td>\n",
       "      <td>(Rx, Ry)</td>\n",
       "      <td>(xz, yz)</td>\n",
       "    </tr>\n",
       "  </tbody>\n",
       "</table>\n",
       "</div>"
      ],
      "text/plain": [
       "      E  2C_4  C_2  2σ_v  2σ_d Traslaciones Rotaciones          Dobles\n",
       "g(c)  1     2    1     2     2                                        \n",
       "A1    1     1    1     1     1            z             z^2, x^2 + y^2\n",
       "A2    1     1    1    -1    -1                      Rz                \n",
       "B1    1    -1    1     1    -1                                 x^2-y^2\n",
       "B2    1    -1    1    -1     1                                     xy \n",
       "E     2     0   -2     0     0       (x, y)   (Rx, Ry)        (xz, yz)"
      ]
     },
     "execution_count": 14,
     "metadata": {},
     "output_type": "execute_result"
    }
   ],
   "source": [
    "C4v = pd.DataFrame(\n",
    "    data = {\n",
    "        \"E\":    [1, 1,1,1,1, 2], \n",
    "        \"2C_4\": [2, 1,1,-1,-1, 0],\n",
    "        \"C_2\":  [1, 1,1,1,1,-2],\n",
    "        \"2σ_v\": [2, 1,-1,1,-1,0],\n",
    "        \"2σ_d\": [2, 1,-1,-1,1,0],\n",
    "        \"Traslaciones\":    [\" \", \"z\",              \" \",  \" \",       \" \",   \"(x, y)\"],\n",
    "        \"Rotaciones\":      [\" \", \" \",              \"Rz\", \" \",       \" \",   \"(Rx, Ry)\"],\n",
    "        \"Dobles\":           [\" \", \"z^2, x^2 + y^2\", \" \",  \"x^2-y^2\", \"xy \", \"(xz, yz)\"]\n",
    "        }, \n",
    "    index= [\"g(c)\", \"A1\", \"A2\", \"B1\", \"B2\", \"E\"])\n",
    "\n",
    "C4v\n"
   ]
  },
  {
   "cell_type": "code",
   "execution_count": 15,
   "metadata": {},
   "outputs": [],
   "source": [
    "def ProductoDirecto(grupo, rep1, rep2):\n",
    "    return  grupo.loc[rep1][:-3]* grupo.loc[rep2][:-2]\n",
    "\n",
    "def EncontrarRepresentacion(grupo, repre):\n",
    "    return [rep for rep in grupo.index if grupo.loc[rep][:-2].equals(repre)][0]\n",
    "\n",
    "def SumaDirecta(group, rep1, rep2):\n",
    "    return group.loc[rep1][:-2] + group.loc[rep2][:-2]\n",
    "\n",
    "def RepresentacionTraslacional(grupo):\n",
    "    #Obtenemos las irrep que contienen traslaciones\n",
    "    traslaciones = grupo.Traslaciones[1:]\n",
    "    #Seleccionamos las traslaciones, dado por su valor \" \" en el data frame\n",
    "    irrep_tralacionales = traslaciones.iloc[np.where(traslaciones != \" \")[0]].index\n",
    "    #Se suman las primeras dos irreps\n",
    "    suma = SumaDirecta(grupo, irrep_tralacionales[0], irrep_tralacionales[1])[:-1]\n",
    "    #Se suma el resto\n",
    "    for irr in irrep_tralacionales[2:]:\n",
    "        suma = suma + C4v.loc[irr][:-3]\n",
    "\n",
    "    return suma\n",
    "\n",
    "def RepresentacionRotacional(grupo):\n",
    "    #Obtenemos las irrep que contienen traslaciones\n",
    "    rotaciones = grupo.Rotaciones[1:]\n",
    "    #Seleccionamos las traslaciones, dado por su valor \" \" en el data frame\n",
    "    irrep_rotacionales = rotaciones.iloc[np.where(rotaciones != \" \")[0]].index\n",
    "    #Se suman las primeras dos irreps\n",
    "    suma = SumaDirecta(grupo, irrep_rotacionales[0], irrep_rotacionales[1])[:-1]\n",
    "    #Se suma el resto\n",
    "    for irr in irrep_rotacionales[2:]:\n",
    "        suma = suma + C4v.loc[irr][:-3]\n",
    "\n",
    "    return suma\n",
    "\n",
    "def RepresentacionAND(grupo, caracteres_AND):\n",
    "    rep_AND = grupo.iloc[1][:-3]  #Copiamos la representcion irreducible totalmente simétrica A1 del grupo\n",
    "    \n",
    "    for i in range(len(caracteres_AND)):\n",
    "        rep_AND[rep_AND.index[i]] = caracteres_AND[i]\n",
    "    rep_AND.name = \"AND\"\n",
    "    return rep_AND\n",
    "\n",
    "def RepresentacionTotal(grupo, caracteresAND):\n",
    "    return RepresentacionTraslacional(grupo)* RepresentacionAND(grupo, caracteresAND)\n",
    "\n",
    "def RepresentacionVibracional(grupo, caracteresAND):\n",
    "    return RepresentacionTotal(grupo, caracteresAND) - RepresentacionTraslacional(grupo) - RepresentacionRotacional(grupo) \n",
    "\n",
    "def Reducir(grupo, representacion):\n",
    "    h = np.sum(grupo.loc[\"g(c)\"][:-3])\n",
    "    irreps = grupo.index[1:]\n",
    "\n",
    "    coeficientes = np.zeros(len(irreps))\n",
    "    formato = \" \"\n",
    "    i=0\n",
    "    for irrep in irreps:\n",
    "        coeficientes[i] = int(np.sum(grupo.loc[\"g(c)\"][:-3]* grupo.loc[irrep][:-3]*representacion )/h)\n",
    "        if coeficientes[i]!=0:\n",
    "            formato = formato + str(coeficientes[i]) + irrep + \" + \"\n",
    "        i+=1\n",
    "\n",
    "    return coeficientes, formato\n",
    "\n",
    "def RepresentacionesRaman(grupo, representacion):\n",
    "    #Las Raman son activas en productos dobles\n",
    "    dobles = grupo.Dobles[1:]\n",
    "    # Seleccionamos las traslaciones, dado por su valor \" \" en el data frame\n",
    "    irrep_dobles = dobles.iloc[np.where(dobles != \" \")[0]].index\n",
    "\n",
    "    irreducibles = Reducir(grupo, representacion)[1]\n",
    "    raman=[]\n",
    "    \n",
    "    for rep in irrep_dobles:        \n",
    "        if rep in irreducibles:\n",
    "    \n",
    "            raman.append(rep)     \n",
    "            \n",
    "    return raman\n",
    "\n",
    "def RepresentacionesInfrarrojo(grupo, representacion):\n",
    "    #En el infrarrojo se activan las representaciones que transforman acorde a traslaciones\n",
    "    traslaciones = grupo.Traslaciones[1:]\n",
    "    # Seleccionamos las traslaciones, dado por su valor \" \" en el data frame\n",
    "    irrep_traslaciones = traslaciones.iloc[np.where(traslaciones != \" \")[0]].index\n",
    "\n",
    "    #Encontramos la forma irreducible de la representación para la que buscamos la activación en infrarrojo\n",
    "    irreducibles = Reducir(grupo, representacion)[1]\n",
    "    infra_rojo =[]\n",
    "    \n",
    "    for rep in irrep_traslaciones:        \n",
    "        if rep in irreducibles:\n",
    "    \n",
    "            infra_rojo.append(rep)     \n",
    "            \n",
    "    return infra_rojo\n",
    "    \n"
   ]
  },
  {
   "cell_type": "markdown",
   "metadata": {},
   "source": [
    "Para una molécula con simetría $C_{4v}$,hay que hallar la representación reducible de los modos normales de vibración $\\Gamma_{vib}$ y después reducirla. Para ello, hallamos las representaciones reducibles Traslacional y Rotacional"
   ]
  },
  {
   "cell_type": "code",
   "execution_count": 16,
   "metadata": {},
   "outputs": [
    {
     "ename": "TypeError",
     "evalue": "RepresentacionTotal() missing 2 required positional arguments: 'grupo' and 'caracteresAND'",
     "output_type": "error",
     "traceback": [
      "\u001b[1;31m---------------------------------------------------------------------------\u001b[0m",
      "\u001b[1;31mTypeError\u001b[0m                                 Traceback (most recent call last)",
      "\u001b[1;32mc:\\Users\\HugoS\\Documents\\Ingeniería Física\\9no Semestre\\Física Atómica y Molecular\\TablasDeCaracteres.ipynb Cell 9\u001b[0m line \u001b[0;36m1\n\u001b[1;32m----> <a href='vscode-notebook-cell:/c%3A/Users/HugoS/Documents/Ingenier%C3%ADa%20F%C3%ADsica/9no%20Semestre/F%C3%ADsica%20At%C3%B3mica%20y%20Molecular/TablasDeCaracteres.ipynb#X11sZmlsZQ%3D%3D?line=0'>1</a>\u001b[0m total \u001b[39m=\u001b[39m RepresentacionTotal()\n",
      "\u001b[1;31mTypeError\u001b[0m: RepresentacionTotal() missing 2 required positional arguments: 'grupo' and 'caracteresAND'"
     ]
    }
   ],
   "source": [
    "total = RepresentacionTotal()"
   ]
  },
  {
   "cell_type": "code",
   "execution_count": null,
   "metadata": {},
   "outputs": [
    {
     "data": {
      "text/plain": [
       "E        3\n",
       "2C_4     1\n",
       "C_2     -1\n",
       "2σ_v     1\n",
       "2σ_d     1\n",
       "dtype: object"
      ]
     },
     "execution_count": 7,
     "metadata": {},
     "output_type": "execute_result"
    }
   ],
   "source": [
    "rep_traslacional = RepresentacionTraslacional(C4v)\n",
    "rep_traslacional"
   ]
  },
  {
   "cell_type": "code",
   "execution_count": null,
   "metadata": {},
   "outputs": [
    {
     "data": {
      "text/plain": [
       "E       18\n",
       "2C_4     2\n",
       "C_2     -2\n",
       "2σ_v     4\n",
       "2σ_d     2\n",
       "dtype: object"
      ]
     },
     "execution_count": 70,
     "metadata": {},
     "output_type": "execute_result"
    }
   ],
   "source": [
    "# Ingresar la representaciónde átomos no desplazados\n",
    "\n",
    "caracteres_AND = [6, 2, 2, 4, 2]\n",
    "RepresentacionTotal(C4v, caracteres_AND)\n"
   ]
  },
  {
   "cell_type": "code",
   "execution_count": null,
   "metadata": {},
   "outputs": [
    {
     "data": {
      "text/plain": [
       "E       12\n",
       "2C_4     0\n",
       "C_2      0\n",
       "2σ_v     4\n",
       "2σ_d     2\n",
       "dtype: object"
      ]
     },
     "execution_count": 10,
     "metadata": {},
     "output_type": "execute_result"
    }
   ],
   "source": [
    "RepresentacionVibracional(C4v, caracteres_AND)"
   ]
  },
  {
   "cell_type": "code",
   "execution_count": null,
   "metadata": {},
   "outputs": [],
   "source": [
    "\n",
    "        \n",
    "\n",
    "    "
   ]
  },
  {
   "cell_type": "code",
   "execution_count": null,
   "metadata": {},
   "outputs": [
    {
     "data": {
      "text/plain": [
       "3"
      ]
     },
     "execution_count": 12,
     "metadata": {},
     "output_type": "execute_result"
    }
   ],
   "source": [
    "round(np.sum(C4v.loc[\"g(c)\"][:-3]* C4v.loc[\"A1\"][:-3]*RepresentacionVibracional(C4v, caracteres_AND) )/8)"
   ]
  },
  {
   "cell_type": "code",
   "execution_count": null,
   "metadata": {},
   "outputs": [
    {
     "data": {
      "text/plain": [
       "E       12\n",
       "2C_4     0\n",
       "C_2      0\n",
       "2σ_v     4\n",
       "2σ_d     2\n",
       "dtype: object"
      ]
     },
     "execution_count": 13,
     "metadata": {},
     "output_type": "execute_result"
    }
   ],
   "source": [
    "rep_vibracional = RepresentacionVibracional(C4v, caracteres_AND)\n",
    "rep_vibracional"
   ]
  },
  {
   "cell_type": "code",
   "execution_count": null,
   "metadata": {},
   "outputs": [
    {
     "data": {
      "text/plain": [
       "(array([3., 0., 2., 1., 3.]), ' 3.0A1 + 0.0A2 + 2.0B1 + 1.0B2 + 3.0E + ')"
      ]
     },
     "execution_count": 14,
     "metadata": {},
     "output_type": "execute_result"
    }
   ],
   "source": [
    "Reducir(C4v, rep_vibracional)"
   ]
  },
  {
   "cell_type": "code",
   "execution_count": null,
   "metadata": {},
   "outputs": [
    {
     "data": {
      "text/plain": [
       "E       1\n",
       "2C_4    1\n",
       "C_2     1\n",
       "2σ_v    1\n",
       "2σ_d    1\n",
       "Name: A1, dtype: object"
      ]
     },
     "execution_count": 15,
     "metadata": {},
     "output_type": "execute_result"
    }
   ],
   "source": [
    "C4v.loc[\"A1\"][:-3] "
   ]
  },
  {
   "cell_type": "code",
   "execution_count": null,
   "metadata": {},
   "outputs": [
    {
     "data": {
      "text/plain": [
       "(array([2., 1., 2., 1., 3.]), ' 2.0A1 + 1.0A2 + 2.0B1 + 1.0B2 + 3.0E + ')"
      ]
     },
     "execution_count": 16,
     "metadata": {},
     "output_type": "execute_result"
    }
   ],
   "source": [
    "caracteres_orpbitales_p = [12, 0, 0, 2, 0]\n",
    "\n",
    "representacionPxyz = RepresentacionAND(C4v, caracteres_orpbitales_p)\n",
    "Reducir(C4v, representacionPxyz)"
   ]
  },
  {
   "cell_type": "code",
   "execution_count": null,
   "metadata": {},
   "outputs": [
    {
     "data": {
      "text/plain": [
       "['A1', 'B1', 'B2', 'E']"
      ]
     },
     "execution_count": 67,
     "metadata": {},
     "output_type": "execute_result"
    }
   ],
   "source": [
    "\n",
    "\n",
    "RepresentacionesRaman(C4v, rep_vibracional)"
   ]
  },
  {
   "cell_type": "code",
   "execution_count": null,
   "metadata": {},
   "outputs": [
    {
     "data": {
      "text/plain": [
       "['A1', 'E']"
      ]
     },
     "execution_count": 69,
     "metadata": {},
     "output_type": "execute_result"
    }
   ],
   "source": [
    "\n",
    "\n",
    "RepresentacionesInfrarrojo(C4v, rep_vibracional)"
   ]
  },
  {
   "cell_type": "code",
   "execution_count": null,
   "metadata": {},
   "outputs": [
    {
     "data": {
      "text/plain": [
       "E       12\n",
       "2C_4     0\n",
       "C_2      0\n",
       "2σ_v     4\n",
       "2σ_d     2\n",
       "dtype: object"
      ]
     },
     "execution_count": 33,
     "metadata": {},
     "output_type": "execute_result"
    }
   ],
   "source": [
    "rep_vibracional"
   ]
  },
  {
   "cell_type": "markdown",
   "metadata": {},
   "source": [
    "### Molécula de agua\n",
    "\n",
    "La molécula de agua pertenece al grupo de simetría $C_{2v}$"
   ]
  },
  {
   "cell_type": "code",
   "execution_count": null,
   "metadata": {},
   "outputs": [
    {
     "data": {
      "text/html": [
       "<div>\n",
       "<style scoped>\n",
       "    .dataframe tbody tr th:only-of-type {\n",
       "        vertical-align: middle;\n",
       "    }\n",
       "\n",
       "    .dataframe tbody tr th {\n",
       "        vertical-align: top;\n",
       "    }\n",
       "\n",
       "    .dataframe thead th {\n",
       "        text-align: right;\n",
       "    }\n",
       "</style>\n",
       "<table border=\"1\" class=\"dataframe\">\n",
       "  <thead>\n",
       "    <tr style=\"text-align: right;\">\n",
       "      <th></th>\n",
       "      <th>E</th>\n",
       "      <th>C_2^z</th>\n",
       "      <th>σ_v^{xz}</th>\n",
       "      <th>σ_v^{yz}</th>\n",
       "      <th>Traslaciones</th>\n",
       "      <th>Rotaciones</th>\n",
       "      <th>Dobles</th>\n",
       "    </tr>\n",
       "  </thead>\n",
       "  <tbody>\n",
       "    <tr>\n",
       "      <th>g(c)</th>\n",
       "      <td>1</td>\n",
       "      <td>1</td>\n",
       "      <td>1</td>\n",
       "      <td>1</td>\n",
       "      <td></td>\n",
       "      <td></td>\n",
       "      <td></td>\n",
       "    </tr>\n",
       "    <tr>\n",
       "      <th>A1</th>\n",
       "      <td>1</td>\n",
       "      <td>1</td>\n",
       "      <td>1</td>\n",
       "      <td>1</td>\n",
       "      <td>z</td>\n",
       "      <td></td>\n",
       "      <td>x^2, y^2, z^2</td>\n",
       "    </tr>\n",
       "    <tr>\n",
       "      <th>A2</th>\n",
       "      <td>1</td>\n",
       "      <td>1</td>\n",
       "      <td>-1</td>\n",
       "      <td>-1</td>\n",
       "      <td></td>\n",
       "      <td>Rz</td>\n",
       "      <td>xy</td>\n",
       "    </tr>\n",
       "    <tr>\n",
       "      <th>B1</th>\n",
       "      <td>1</td>\n",
       "      <td>-1</td>\n",
       "      <td>1</td>\n",
       "      <td>-1</td>\n",
       "      <td>x</td>\n",
       "      <td>Rx</td>\n",
       "      <td>xz</td>\n",
       "    </tr>\n",
       "    <tr>\n",
       "      <th>B2</th>\n",
       "      <td>1</td>\n",
       "      <td>-1</td>\n",
       "      <td>-1</td>\n",
       "      <td>1</td>\n",
       "      <td>y</td>\n",
       "      <td>Ry</td>\n",
       "      <td>yz</td>\n",
       "    </tr>\n",
       "  </tbody>\n",
       "</table>\n",
       "</div>"
      ],
      "text/plain": [
       "      E  C_2^z  σ_v^{xz}  σ_v^{yz} Traslaciones Rotaciones          Dobles\n",
       "g(c)  1      1         1         1                                        \n",
       "A1    1      1         1         1            z              x^2, y^2, z^2\n",
       "A2    1      1        -1        -1                      Rz              xy\n",
       "B1    1     -1         1        -1            x         Rx              xz\n",
       "B2    1     -1        -1         1            y         Ry              yz"
      ]
     },
     "execution_count": 15,
     "metadata": {},
     "output_type": "execute_result"
    }
   ],
   "source": [
    "C2v"
   ]
  },
  {
   "cell_type": "code",
   "execution_count": 17,
   "metadata": {},
   "outputs": [
    {
     "data": {
      "text/plain": [
       "(array([1., 0., 1., 0.]), ' 1.0A1 + 1.0B1 + ')"
      ]
     },
     "execution_count": 17,
     "metadata": {},
     "output_type": "execute_result"
    }
   ],
   "source": [
    "rep_and = RepresentacionAND(C2v, [2, 0, 2, 0])\n",
    "Reducir(C2v, rep_and)\n",
    "   "
   ]
  },
  {
   "cell_type": "code",
   "execution_count": null,
   "metadata": {},
   "outputs": [
    {
     "ename": "KeyError",
     "evalue": "'E'",
     "output_type": "error",
     "traceback": [
      "\u001b[1;31m---------------------------------------------------------------------------\u001b[0m",
      "\u001b[1;31mKeyError\u001b[0m                                  Traceback (most recent call last)",
      "File \u001b[1;32mc:\\Users\\HugoS\\AppData\\Local\\Programs\\Python\\Python312\\Lib\\site-packages\\pandas\\core\\indexes\\base.py:3790\u001b[0m, in \u001b[0;36mIndex.get_loc\u001b[1;34m(self, key)\u001b[0m\n\u001b[0;32m   3789\u001b[0m \u001b[39mtry\u001b[39;00m:\n\u001b[1;32m-> 3790\u001b[0m     \u001b[39mreturn\u001b[39;00m \u001b[39mself\u001b[39;49m\u001b[39m.\u001b[39;49m_engine\u001b[39m.\u001b[39;49mget_loc(casted_key)\n\u001b[0;32m   3791\u001b[0m \u001b[39mexcept\u001b[39;00m \u001b[39mKeyError\u001b[39;00m \u001b[39mas\u001b[39;00m err:\n",
      "File \u001b[1;32mindex.pyx:152\u001b[0m, in \u001b[0;36mpandas._libs.index.IndexEngine.get_loc\u001b[1;34m()\u001b[0m\n",
      "File \u001b[1;32mindex.pyx:181\u001b[0m, in \u001b[0;36mpandas._libs.index.IndexEngine.get_loc\u001b[1;34m()\u001b[0m\n",
      "File \u001b[1;32mpandas\\_libs\\hashtable_class_helper.pxi:7080\u001b[0m, in \u001b[0;36mpandas._libs.hashtable.PyObjectHashTable.get_item\u001b[1;34m()\u001b[0m\n",
      "File \u001b[1;32mpandas\\_libs\\hashtable_class_helper.pxi:7088\u001b[0m, in \u001b[0;36mpandas._libs.hashtable.PyObjectHashTable.get_item\u001b[1;34m()\u001b[0m\n",
      "\u001b[1;31mKeyError\u001b[0m: 'E'",
      "\nThe above exception was the direct cause of the following exception:\n",
      "\u001b[1;31mKeyError\u001b[0m                                  Traceback (most recent call last)",
      "\u001b[1;32mc:\\Users\\HugoS\\Documents\\Ingeniería Física\\9no Semestre\\Física Atómica y Molecular\\TablasDeCaracteres.ipynb Cell 25\u001b[0m line \u001b[0;36m1\n\u001b[0;32m      <a href='vscode-notebook-cell:/c%3A/Users/HugoS/Documents/Ingenier%C3%ADa%20F%C3%ADsica/9no%20Semestre/F%C3%ADsica%20At%C3%B3mica%20y%20Molecular/TablasDeCaracteres.ipynb#X34sZmlsZQ%3D%3D?line=0'>1</a>\u001b[0m \u001b[39m\"\"\"\u001b[39;00m\n\u001b[0;32m      <a href='vscode-notebook-cell:/c%3A/Users/HugoS/Documents/Ingenier%C3%ADa%20F%C3%ADsica/9no%20Semestre/F%C3%ADsica%20At%C3%B3mica%20y%20Molecular/TablasDeCaracteres.ipynb#X34sZmlsZQ%3D%3D?line=1'>2</a>\u001b[0m \u001b[39mcoeficientes = np.zeros(len(irreps))\u001b[39;00m\n\u001b[0;32m      <a href='vscode-notebook-cell:/c%3A/Users/HugoS/Documents/Ingenier%C3%ADa%20F%C3%ADsica/9no%20Semestre/F%C3%ADsica%20At%C3%B3mica%20y%20Molecular/TablasDeCaracteres.ipynb#X34sZmlsZQ%3D%3D?line=2'>3</a>\u001b[0m \u001b[39mformato = \" \"\u001b[39;00m\n\u001b[1;32m   (...)\u001b[0m\n\u001b[0;32m      <a href='vscode-notebook-cell:/c%3A/Users/HugoS/Documents/Ingenier%C3%ADa%20F%C3%ADsica/9no%20Semestre/F%C3%ADsica%20At%C3%B3mica%20y%20Molecular/TablasDeCaracteres.ipynb#X34sZmlsZQ%3D%3D?line=8'>9</a>\u001b[0m \u001b[39m    i+=1\u001b[39;00m\n\u001b[0;32m     <a href='vscode-notebook-cell:/c%3A/Users/HugoS/Documents/Ingenier%C3%ADa%20F%C3%ADsica/9no%20Semestre/F%C3%ADsica%20At%C3%B3mica%20y%20Molecular/TablasDeCaracteres.ipynb#X34sZmlsZQ%3D%3D?line=9'>10</a>\u001b[0m \u001b[39m\"\"\"\u001b[39;00m\n\u001b[1;32m---> <a href='vscode-notebook-cell:/c%3A/Users/HugoS/Documents/Ingenier%C3%ADa%20F%C3%ADsica/9no%20Semestre/F%C3%ADsica%20At%C3%B3mica%20y%20Molecular/TablasDeCaracteres.ipynb#X34sZmlsZQ%3D%3D?line=10'>11</a>\u001b[0m Reducir(C2v, rep_and)\n",
      "\u001b[1;32mc:\\Users\\HugoS\\Documents\\Ingeniería Física\\9no Semestre\\Física Atómica y Molecular\\TablasDeCaracteres.ipynb Cell 25\u001b[0m line \u001b[0;36m5\n\u001b[0;32m     <a href='vscode-notebook-cell:/c%3A/Users/HugoS/Documents/Ingenier%C3%ADa%20F%C3%ADsica/9no%20Semestre/F%C3%ADsica%20At%C3%B3mica%20y%20Molecular/TablasDeCaracteres.ipynb#X34sZmlsZQ%3D%3D?line=55'>56</a>\u001b[0m i\u001b[39m=\u001b[39m\u001b[39m0\u001b[39m\n\u001b[0;32m     <a href='vscode-notebook-cell:/c%3A/Users/HugoS/Documents/Ingenier%C3%ADa%20F%C3%ADsica/9no%20Semestre/F%C3%ADsica%20At%C3%B3mica%20y%20Molecular/TablasDeCaracteres.ipynb#X34sZmlsZQ%3D%3D?line=56'>57</a>\u001b[0m \u001b[39mfor\u001b[39;00m irrep \u001b[39min\u001b[39;00m irreps:\n\u001b[1;32m---> <a href='vscode-notebook-cell:/c%3A/Users/HugoS/Documents/Ingenier%C3%ADa%20F%C3%ADsica/9no%20Semestre/F%C3%ADsica%20At%C3%B3mica%20y%20Molecular/TablasDeCaracteres.ipynb#X34sZmlsZQ%3D%3D?line=57'>58</a>\u001b[0m     coeficientes[i] \u001b[39m=\u001b[39m \u001b[39mint\u001b[39m(np\u001b[39m.\u001b[39msum(grupo\u001b[39m.\u001b[39mloc[\u001b[39m\"\u001b[39m\u001b[39mg(c)\u001b[39m\u001b[39m\"\u001b[39m][:\u001b[39m-\u001b[39m\u001b[39m3\u001b[39m]\u001b[39m*\u001b[39m grupo\u001b[39m.\u001b[39;49mloc[irrep][:\u001b[39m-\u001b[39m\u001b[39m3\u001b[39m]\u001b[39m*\u001b[39mrepresentacion )\u001b[39m/\u001b[39mh)\n\u001b[0;32m     <a href='vscode-notebook-cell:/c%3A/Users/HugoS/Documents/Ingenier%C3%ADa%20F%C3%ADsica/9no%20Semestre/F%C3%ADsica%20At%C3%B3mica%20y%20Molecular/TablasDeCaracteres.ipynb#X34sZmlsZQ%3D%3D?line=58'>59</a>\u001b[0m     \u001b[39mif\u001b[39;00m coeficientes[i]\u001b[39m!=\u001b[39m\u001b[39m0\u001b[39m:\n\u001b[0;32m     <a href='vscode-notebook-cell:/c%3A/Users/HugoS/Documents/Ingenier%C3%ADa%20F%C3%ADsica/9no%20Semestre/F%C3%ADsica%20At%C3%B3mica%20y%20Molecular/TablasDeCaracteres.ipynb#X34sZmlsZQ%3D%3D?line=59'>60</a>\u001b[0m         formato \u001b[39m=\u001b[39m formato \u001b[39m+\u001b[39m \u001b[39mstr\u001b[39m(coeficientes[i]) \u001b[39m+\u001b[39m irrep \u001b[39m+\u001b[39m \u001b[39m\"\u001b[39m\u001b[39m + \u001b[39m\u001b[39m\"\u001b[39m\n",
      "File \u001b[1;32mc:\\Users\\HugoS\\AppData\\Local\\Programs\\Python\\Python312\\Lib\\site-packages\\pandas\\core\\indexing.py:1153\u001b[0m, in \u001b[0;36m_LocationIndexer.__getitem__\u001b[1;34m(self, key)\u001b[0m\n\u001b[0;32m   1150\u001b[0m axis \u001b[39m=\u001b[39m \u001b[39mself\u001b[39m\u001b[39m.\u001b[39maxis \u001b[39mor\u001b[39;00m \u001b[39m0\u001b[39m\n\u001b[0;32m   1152\u001b[0m maybe_callable \u001b[39m=\u001b[39m com\u001b[39m.\u001b[39mapply_if_callable(key, \u001b[39mself\u001b[39m\u001b[39m.\u001b[39mobj)\n\u001b[1;32m-> 1153\u001b[0m \u001b[39mreturn\u001b[39;00m \u001b[39mself\u001b[39;49m\u001b[39m.\u001b[39;49m_getitem_axis(maybe_callable, axis\u001b[39m=\u001b[39;49maxis)\n",
      "File \u001b[1;32mc:\\Users\\HugoS\\AppData\\Local\\Programs\\Python\\Python312\\Lib\\site-packages\\pandas\\core\\indexing.py:1393\u001b[0m, in \u001b[0;36m_LocIndexer._getitem_axis\u001b[1;34m(self, key, axis)\u001b[0m\n\u001b[0;32m   1391\u001b[0m \u001b[39m# fall thru to straight lookup\u001b[39;00m\n\u001b[0;32m   1392\u001b[0m \u001b[39mself\u001b[39m\u001b[39m.\u001b[39m_validate_key(key, axis)\n\u001b[1;32m-> 1393\u001b[0m \u001b[39mreturn\u001b[39;00m \u001b[39mself\u001b[39;49m\u001b[39m.\u001b[39;49m_get_label(key, axis\u001b[39m=\u001b[39;49maxis)\n",
      "File \u001b[1;32mc:\\Users\\HugoS\\AppData\\Local\\Programs\\Python\\Python312\\Lib\\site-packages\\pandas\\core\\indexing.py:1343\u001b[0m, in \u001b[0;36m_LocIndexer._get_label\u001b[1;34m(self, label, axis)\u001b[0m\n\u001b[0;32m   1341\u001b[0m \u001b[39mdef\u001b[39;00m \u001b[39m_get_label\u001b[39m(\u001b[39mself\u001b[39m, label, axis: AxisInt):\n\u001b[0;32m   1342\u001b[0m     \u001b[39m# GH#5567 this will fail if the label is not present in the axis.\u001b[39;00m\n\u001b[1;32m-> 1343\u001b[0m     \u001b[39mreturn\u001b[39;00m \u001b[39mself\u001b[39;49m\u001b[39m.\u001b[39;49mobj\u001b[39m.\u001b[39;49mxs(label, axis\u001b[39m=\u001b[39;49maxis)\n",
      "File \u001b[1;32mc:\\Users\\HugoS\\AppData\\Local\\Programs\\Python\\Python312\\Lib\\site-packages\\pandas\\core\\generic.py:4236\u001b[0m, in \u001b[0;36mNDFrame.xs\u001b[1;34m(self, key, axis, level, drop_level)\u001b[0m\n\u001b[0;32m   4234\u001b[0m             new_index \u001b[39m=\u001b[39m index[loc]\n\u001b[0;32m   4235\u001b[0m \u001b[39melse\u001b[39;00m:\n\u001b[1;32m-> 4236\u001b[0m     loc \u001b[39m=\u001b[39m index\u001b[39m.\u001b[39;49mget_loc(key)\n\u001b[0;32m   4238\u001b[0m     \u001b[39mif\u001b[39;00m \u001b[39misinstance\u001b[39m(loc, np\u001b[39m.\u001b[39mndarray):\n\u001b[0;32m   4239\u001b[0m         \u001b[39mif\u001b[39;00m loc\u001b[39m.\u001b[39mdtype \u001b[39m==\u001b[39m np\u001b[39m.\u001b[39mbool_:\n",
      "File \u001b[1;32mc:\\Users\\HugoS\\AppData\\Local\\Programs\\Python\\Python312\\Lib\\site-packages\\pandas\\core\\indexes\\base.py:3797\u001b[0m, in \u001b[0;36mIndex.get_loc\u001b[1;34m(self, key)\u001b[0m\n\u001b[0;32m   3792\u001b[0m     \u001b[39mif\u001b[39;00m \u001b[39misinstance\u001b[39m(casted_key, \u001b[39mslice\u001b[39m) \u001b[39mor\u001b[39;00m (\n\u001b[0;32m   3793\u001b[0m         \u001b[39misinstance\u001b[39m(casted_key, abc\u001b[39m.\u001b[39mIterable)\n\u001b[0;32m   3794\u001b[0m         \u001b[39mand\u001b[39;00m \u001b[39many\u001b[39m(\u001b[39misinstance\u001b[39m(x, \u001b[39mslice\u001b[39m) \u001b[39mfor\u001b[39;00m x \u001b[39min\u001b[39;00m casted_key)\n\u001b[0;32m   3795\u001b[0m     ):\n\u001b[0;32m   3796\u001b[0m         \u001b[39mraise\u001b[39;00m InvalidIndexError(key)\n\u001b[1;32m-> 3797\u001b[0m     \u001b[39mraise\u001b[39;00m \u001b[39mKeyError\u001b[39;00m(key) \u001b[39mfrom\u001b[39;00m \u001b[39merr\u001b[39;00m\n\u001b[0;32m   3798\u001b[0m \u001b[39mexcept\u001b[39;00m \u001b[39mTypeError\u001b[39;00m:\n\u001b[0;32m   3799\u001b[0m     \u001b[39m# If we have a listlike key, _check_indexing_error will raise\u001b[39;00m\n\u001b[0;32m   3800\u001b[0m     \u001b[39m#  InvalidIndexError. Otherwise we fall through and re-raise\u001b[39;00m\n\u001b[0;32m   3801\u001b[0m     \u001b[39m#  the TypeError.\u001b[39;00m\n\u001b[0;32m   3802\u001b[0m     \u001b[39mself\u001b[39m\u001b[39m.\u001b[39m_check_indexing_error(key)\n",
      "\u001b[1;31mKeyError\u001b[0m: 'E'"
     ]
    }
   ],
   "source": [
    "\"\"\"\n",
    "coeficientes = np.zeros(len(irreps))\n",
    "formato = \" \"\n",
    "i=0\n",
    "for irrep in irreps:\n",
    "    coeficientes[i] = int(np.sum(grupo.loc[\"g(c)\"][:-3]* grupo.loc[irrep][:-3]*representacion )/h)\n",
    "    if coeficientes[i]!=0:\n",
    "        formato = formato + str(coeficientes[i]) + irrep + \" + \"\n",
    "    i+=1\n",
    "\"\"\"\n",
    "Reducir(C2v, rep_and)\n",
    "         "
   ]
  },
  {
   "cell_type": "code",
   "execution_count": null,
   "metadata": {},
   "outputs": [
    {
     "ename": "NameError",
     "evalue": "name 'E' is not defined",
     "output_type": "error",
     "traceback": [
      "\u001b[1;31m---------------------------------------------------------------------------\u001b[0m",
      "\u001b[1;31mNameError\u001b[0m                                 Traceback (most recent call last)",
      "\u001b[1;32mc:\\Users\\HugoS\\Documents\\Ingeniería Física\\9no Semestre\\Física Atómica y Molecular\\TablasDeCaracteres.ipynb Cell 26\u001b[0m line \u001b[0;36m1\n\u001b[1;32m----> <a href='vscode-notebook-cell:/c%3A/Users/HugoS/Documents/Ingenier%C3%ADa%20F%C3%ADsica/9no%20Semestre/F%C3%ADsica%20At%C3%B3mica%20y%20Molecular/TablasDeCaracteres.ipynb#X35sZmlsZQ%3D%3D?line=0'>1</a>\u001b[0m E\n",
      "\u001b[1;31mNameError\u001b[0m: name 'E' is not defined"
     ]
    }
   ],
   "source": [
    "E"
   ]
  },
  {
   "cell_type": "code",
   "execution_count": null,
   "metadata": {},
   "outputs": [],
   "source": []
  }
 ],
 "metadata": {
  "kernelspec": {
   "display_name": "Python 3",
   "language": "python",
   "name": "python3"
  },
  "language_info": {
   "codemirror_mode": {
    "name": "ipython",
    "version": 3
   },
   "file_extension": ".py",
   "mimetype": "text/x-python",
   "name": "python",
   "nbconvert_exporter": "python",
   "pygments_lexer": "ipython3",
   "version": "3.12.0"
  }
 },
 "nbformat": 4,
 "nbformat_minor": 2
}
