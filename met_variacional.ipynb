{
 "cells": [
  {
   "cell_type": "code",
   "execution_count": 1,
   "id": "86ce5ac6-8336-49a4-b218-b7aa9c75bc9a",
   "metadata": {},
   "outputs": [],
   "source": [
    "from sympy import *\n",
    "import numpy as np\n",
    "import math\n",
    "import matplotlib.pyplot as plt\n"
   ]
  },
  {
   "cell_type": "markdown",
   "id": "192ab4e0-2c34-4458-a019-6bd54720ee05",
   "metadata": {},
   "source": [
    "Agregando la función de onda prueba: \n",
    "\\begin{equation}\n",
    "    \\psi_{prueba}(x) = x(a-x)\n",
    "\\end{equation}\n",
    "y como se trata de una partícula en una caja con longitud a, entonces la ecuación de Schrodinguer es\n",
    "\\begin{equation}\n",
    "    \\frac{d^2\\psi}{dx^2} = E\\psi\n",
    "\\end{equation}\n",
    "donde $-a<x<a$\n"
   ]
  },
  {
   "cell_type": "markdown",
   "id": "db953bc8-6d78-4bf9-b1fc-eba1cbff2931",
   "metadata": {},
   "source": [
    "La solución aproximada con el método variacional se puede obtener por medio de la integral variacional\n",
    "\\begin{equation}\n",
    "    \\epsilon = \\dfrac{\\int \\psi(x)^{*} H \\psi(x) dx}{\\int \\psi(x)^{*} \\psi(x)dx}\n",
    "\\end{equation}\n",
    "y si consideramos el valor óptimo que puede tener la energía, entonces se usa la minimización de la integral variacional con la derivada\n",
    "\\begin{equation}\n",
    "    \\frac{d\\epsilon}{dx}_{x=a} = 0\n",
    "\\end{equation}\n"
   ]
  },
  {
   "cell_type": "code",
   "execution_count": 91,
   "id": "b94b74ee-eeda-4801-a50d-f692d4bde08d",
   "metadata": {},
   "outputs": [],
   "source": [
    "def particula_en_caja_1d(x,l,psi_p):\n",
    "    '''\n",
    "        Esta funcion presenta como variable x y como longitud de la caja\n",
    "        igual a l. \n",
    "        Lo que devuelve es la energia dada por la funcion variacional, el valor \n",
    "        optimo y una representacion grafica de la funcion de prueba vs la funcion \n",
    "        de onda analitica.\n",
    "    '''\n",
    "    #Simbolos\n",
    "    m = Symbol('m')\n",
    "    h = Symbol('h')\n",
    "    math.pi = Symbol('pi')\n",
    "\n",
    "    #Calculos\n",
    "    H_caja = diff(psi_p,x,2)\n",
    "    ia = integrate(psi_p*H_caja, (x,0,l))\n",
    "    ib = integrate(psi_p**2, (x,0,l)) \n",
    "    epsilon = ia/ib\n",
    "\n",
    "    #Arreglos de valores\n",
    "    k = np.arange(-5,5,0.1)\n",
    "    psi_exacta = np.sin(np.pi*k)\n",
    "    #psi_prueba2 = (k**1)*(k-1)**1\n",
    "    psi_prueba2 = psi_prueba(k,1)\n",
    "\n",
    "    #Graficacion\n",
    "    plt.plot(k,psi_exacta)\n",
    "    plt.plot(k,psi_prueba2)\n",
    "    plt.show()\n",
    "    \n",
    "    return epsilon*(-h**2/(8*m*pi**2))\n",
    "\n",
    "    "
   ]
  },
  {
   "cell_type": "code",
   "execution_count": 92,
   "id": "96cb2e2d-237b-44bd-a4fa-ce1917600c90",
   "metadata": {},
   "outputs": [
    {
     "data": {
      "image/png": "[encoded data removed]",
      "text/plain": [
       "<Figure size 640x480 with 1 Axes>"
      ]
     },
     "metadata": {},
     "output_type": "display_data"
    },
    {
     "data": {
      "text/latex": [
       "$\\displaystyle \\frac{5 h^{2}}{4 \\pi^{2} l^{2} m}$"
      ],
      "text/plain": [
       "5*h**2/(4*pi**2*l**2*m)"
      ]
     },
     "execution_count": 92,
     "metadata": {},
     "output_type": "execute_result"
    }
   ],
   "source": [
    "x1 = Symbol('x')\n",
    "l  = Symbol('l')\n",
    "psi_prueba = lambda x,a: (x**1)*(x-a)**1\n",
    "\n",
    "particula_en_caja_1d(x1,l,psi_prueba(x1,l))"
   ]
  },
  {
   "cell_type": "markdown",
   "id": "f6ce469b-1df9-4455-addf-76c150a5b502",
   "metadata": {},
   "source": [
    "ÁTOMO DE HIDROGENO"
   ]
  },
  {
   "cell_type": "markdown",
   "id": "b3845a4b-ad8c-4a0b-a5b6-073594e331b9",
   "metadata": {},
   "source": [
    "Tomando como función de prueba\n",
    "\n",
    "\\begin{equation}\n",
    "    \\psi_{prueba} = e^{-cr}\n",
    "\\end{equation}\n",
    "y la ecuación de Schrodinguer es\n",
    "\\begin{equation}\n",
    "    \\dfrac{-h^2}{8m\\pi^2} \\dfrac{d^2 \\psi}{dr^2} - \\frac{1}{4\\pi\\epsilon_0} \\dfrac{e^2}{r} \\psi = E \\psi\n",
    "\\end{equation}\n",
    "\n",
    "La solución aproximada se presenta a continuación"
   ]
  },
  {
   "cell_type": "code",
   "execution_count": 93,
   "id": "ced3a2ad-130a-4135-be75-02a44dd8f3ff",
   "metadata": {},
   "outputs": [],
   "source": [
    "def Atomo_De_Hidrogeno(r1,psi_p1):\n",
    "    '''\n",
    "        Esta funcion presenta como variable r (dejando constante phi y theta) \n",
    "        Lo que devuelve es la  funcion variacional.\n",
    "    '''\n",
    "\n",
    "    #Simbolos\n",
    "    m  = Symbol('m')\n",
    "    h  = Symbol('h')\n",
    "    ep = Symbol('epsilon_0')\n",
    "    e  = Symbol('e')\n",
    "    mu = Symbol('mu')\n",
    "    math.pi = Symbol('pi')\n",
    "\n",
    "    #Calculos\n",
    "    H_caja = (-h**2/(8*(pi**2)*mu))*(diff(psi_p1,r1,2) + (2/r1)*diff(psi_p1,r1)) -(e**2/(4*pi*ep))*(1/r1)*psi_p1 \n",
    "\n",
    "    ia = integrate(psi_p1*H_caja*(r**2)*(4*pi), (r1,0,oo))\n",
    "    ib = integrate(psi_p1**2*(r**2)*(4*pi), (r1,0,oo)) \n",
    "    epsilon1 = ia/ib\n",
    "\n",
    "    return epsilon1\n",
    "\n",
    "    "
   ]
  },
  {
   "cell_type": "code",
   "execution_count": 98,
   "id": "ebdc9526-235b-42b1-acd7-ef8910cde239",
   "metadata": {},
   "outputs": [
    {
     "data": {
      "text/latex": [
       "$\\displaystyle \\left(\\begin{cases} \\frac{c^{3}}{\\pi} & \\text{for}\\: \\left|{\\arg{\\left(c \\right)}}\\right| < \\frac{\\pi}{2} \\\\\\frac{1}{\\int\\limits_{0}^{\\infty} 4 \\pi r^{2} e^{- 2 c r}\\, dr} & \\text{otherwise} \\end{cases}\\right) \\left(\\begin{cases} \\frac{h^{2}}{8 \\pi c \\mu} - \\frac{e^{2}}{4 c^{2} \\epsilon_{0}} & \\text{for}\\: \\left|{\\arg{\\left(c \\right)}}\\right| < \\frac{\\pi}{2} \\\\\\int\\limits_{0}^{\\infty} 4 \\pi r^{2} \\left(- \\frac{e^{2} e^{- c r}}{4 \\pi \\epsilon_{0} r} - \\frac{h^{2} \\left(c^{2} e^{- c r} - \\frac{2 c e^{- c r}}{r}\\right)}{8 \\pi^{2} \\mu}\\right) e^{- c r}\\, dr & \\text{otherwise} \\end{cases}\\right)$"
      ],
      "text/plain": [
       "Piecewise((c**3/pi, Abs(arg(c)) < pi/2), (1/Integral(4*pi*r**2*exp(-2*c*r), (r, 0, oo)), True))*Piecewise((h**2/(8*pi*c*mu) - e**2/(4*c**2*epsilon_0), Abs(arg(c)) < pi/2), (Integral(4*pi*r**2*(-e**2*exp(-c*r)/(4*pi*epsilon_0*r) - h**2*(c**2*exp(-c*r) - 2*c*exp(-c*r)/r)/(8*pi**2*mu))*exp(-c*r), (r, 0, oo)), True))"
      ]
     },
     "execution_count": 98,
     "metadata": {},
     "output_type": "execute_result"
    }
   ],
   "source": [
    "#Simbolos\n",
    "r     = Symbol('r')\n",
    "theta = Symbol('theta')\n",
    "phi   = Symbol('phi')\n",
    "c     = Symbol('c')\n",
    "mu = Symbol('mu')\n",
    "m  = Symbol('m')\n",
    "h  = Symbol('h')\n",
    "ep = Symbol('epsilon_0')\n",
    "e  = Symbol('e')\n",
    "math.pi = Symbol('pi')\n",
    "\n",
    "psi_prueba_r = lambda k,r1: exp(-k*r1)\n",
    "\n",
    "Atomo_De_Hidrogeno(r,psi_prueba_r(c,r))"
   ]
  },
  {
   "cell_type": "markdown",
   "id": "dc177378-b213-405e-a73b-1eeb10a25c67",
   "metadata": {},
   "source": [
    "El resultado de la integración de la función variacional es el siguiente"
   ]
  },
  {
   "cell_type": "code",
   "execution_count": 99,
   "id": "20f92a76-7821-46ad-91bc-7416df561b62",
   "metadata": {},
   "outputs": [
    {
     "data": {
      "text/latex": [
       "$\\displaystyle \\frac{c^{2} h^{2}}{8 \\pi^{2} \\mu} - \\frac{c e^{2}}{4 \\pi \\epsilon_{0}}$"
      ],
      "text/plain": [
       "c**2*h**2/(8*pi**2*mu) - c*e**2/(4*pi*epsilon_0)"
      ]
     },
     "execution_count": 99,
     "metadata": {},
     "output_type": "execute_result"
    }
   ],
   "source": [
    "epsilon_H = ( (h**2)/(8*pi*c*mu) - (e**2)/(4*(c**2)*ep) ) * ( c**3/pi)\n",
    "simplify(epsilon_H)"
   ]
  },
  {
   "cell_type": "markdown",
   "id": "cefb1ce7-0413-403b-bdcc-f4d27736ecf1",
   "metadata": {},
   "source": [
    "Ahora, la minimación de la función variacional para un valor óptimo de c se muestra como sigue"
   ]
  },
  {
   "cell_type": "code",
   "execution_count": 100,
   "id": "852f3478-6d48-4014-8ce8-755f49b29c47",
   "metadata": {},
   "outputs": [
    {
     "data": {
      "text/latex": [
       "$\\displaystyle \\frac{c^{3} \\left(- \\frac{h^{2}}{8 \\pi c^{2} \\mu} + \\frac{e^{2}}{2 c^{3} \\epsilon_{0}}\\right)}{\\pi} + \\frac{3 c^{2} \\left(\\frac{h^{2}}{8 \\pi c \\mu} - \\frac{e^{2}}{4 c^{2} \\epsilon_{0}}\\right)}{\\pi}$"
      ],
      "text/plain": [
       "c**3*(-h**2/(8*pi*c**2*mu) + e**2/(2*c**3*epsilon_0))/pi + 3*c**2*(h**2/(8*pi*c*mu) - e**2/(4*c**2*epsilon_0))/pi"
      ]
     },
     "execution_count": 100,
     "metadata": {},
     "output_type": "execute_result"
    }
   ],
   "source": [
    "dedc = diff(epsilon_H, c)\n",
    "dedc"
   ]
  },
  {
   "cell_type": "markdown",
   "id": "df773db2-3c84-4e21-a171-fbb5940a1308",
   "metadata": {},
   "source": [
    "Por lo que el valor ótimo de c es:"
   ]
  },
  {
   "cell_type": "code",
   "execution_count": 104,
   "id": "a49c9634-5c01-47c9-9c93-e277e8e49605",
   "metadata": {},
   "outputs": [
    {
     "data": {
      "text/latex": [
       "$\\displaystyle \\frac{\\pi e^{2} \\mu}{\\epsilon_{0} h^{2}}$"
      ],
      "text/plain": [
       "pi*e**2*mu/(epsilon_0*h**2)"
      ]
     },
     "execution_count": 104,
     "metadata": {},
     "output_type": "execute_result"
    }
   ],
   "source": [
    "solve(dedc,c)[0] #Solución a ecuación f'(c) = 0"
   ]
  },
  {
   "cell_type": "code",
   "execution_count": null,
   "id": "f3f4278f-84c9-4389-ab8f-ea62298ad3b9",
   "metadata": {},
   "outputs": [],
   "source": []
  }
 ],
 "metadata": {
  "kernelspec": {
   "display_name": "Python 3 (ipykernel)",
   "language": "python",
   "name": "python3"
  },
  "language_info": {
   "codemirror_mode": {
    "name": "ipython",
    "version": 3
   },
   "file_extension": ".py",
   "mimetype": "text/x-python",
   "name": "python",
   "nbconvert_exporter": "python",
   "pygments_lexer": "ipython3",
   "version": "3.11.5"
  }
 },
 "nbformat": 4,
 "nbformat_minor": 5
}
