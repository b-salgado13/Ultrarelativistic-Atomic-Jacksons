{
 "cells": [
  {
   "cell_type": "markdown",
   "id": "ed079b3c-bb58-461e-93f4-1b38865df8a5",
   "metadata": {},
   "source": [
    "Simetrías"
   ]
  },
  {
   "cell_type": "code",
   "execution_count": 1,
   "id": "a714f5c9-cd58-47f0-ae79-0b1d10b3833f",
   "metadata": {
    "tags": []
   },
   "outputs": [],
   "source": [
    "import numpy as np"
   ]
  },
  {
   "cell_type": "code",
   "execution_count": 2,
   "id": "64cb644e-fcf5-47f3-9ea0-28b72afb08f2",
   "metadata": {
    "tags": []
   },
   "outputs": [],
   "source": [
    "def MatrizRotacion(angulo, eje):\n",
    "    \"\"\"\n",
    "    Esta función calcula la matriz de rotación 3D alrededor de un eje (unitario) arbitrario cierto angulo\n",
    "    \n",
    "    Input:\n",
    "        float angulo              -> Angulo en radianes\n",
    "        array eje[ux, uy, uz]     -> eje de rotación (debe ser unitario)\n",
    "        \n",
    "    Output:\n",
    "        \n",
    "        array 3x3                 -> Matriz de rotación\n",
    "    \"\"\"\n",
    "    coseno = np.cos(angulo)\n",
    "    seno = np.sin(angulo)\n",
    "    ux, uy, uz = eje\n",
    "    \n",
    "    matriz_rotacion = np.array([\n",
    "        [coseno + ux**2*(1 - coseno),    ux*uy*(1 - coseno) - uz*seno,   ux*uz*(1 - coseno) + uy*seno],\n",
    "        [uy*ux*(1 - coseno) + uz*seno,   coseno + uy**2*(1 - coseno),    uy*uz*(1 - coseno) - ux*seno],\n",
    "        [uz*ux*(1 - coseno) - uy*seno,   uz*uy*(1 - coseno) + ux*seno,   coseno + uz**2*(1 - coseno)]\n",
    "    ])\n",
    "    \n",
    "    return matriz_rotacion\n",
    "\n",
    "\n",
    "def MatrizReflexion(plano):\n",
    "    \"\"\"\n",
    "    Matriz de reflexión ante el plano definido por la ecuación ax+by+cz = 0\n",
    "    \n",
    "    \"\"\"\n",
    "    \n",
    "    a, b, c = plano\n",
    "    \n",
    "    matriz_reflexion = np.array([\n",
    "        [1 - 2*a**2, -2*a*b,       -2*a*c], \n",
    "        [-2*a*b,      1 - 2*b**2,  -2*b*c], \n",
    "        [-2*a*c,     -2*b*c,       1- 2*c**2]\n",
    "    ])\n",
    "    \n",
    "    return matriz_reflexion\n",
    "\n",
    "\n",
    "def CambioBase(matriz, base_vieja, base_nueva):\n",
    "    matriz_transformacion = MatrizTransformacion(base_vieja, base_nueva)\n",
    "    \n",
    "    return matriz_transformacion@matriz@np.linalg.inv(matriz_transformacion)\n",
    "\n",
    "def MatrizTransformacion(base1, base2): \n",
    "    m = len(base1)\n",
    "    \n",
    "    matriz = np.zeros((m,m))\n",
    "    \n",
    "    for i in range(m):\n",
    "        for j in range(m):\n",
    "            matriz[i, j] = np.dot(base1[i], base2[j])\n",
    "            \n",
    "    return matriz\n",
    "    "
   ]
  },
  {
   "cell_type": "code",
   "execution_count": 3,
   "id": "93b40e0c-cd49-48b2-9fcc-66798caa9938",
   "metadata": {
    "tags": []
   },
   "outputs": [],
   "source": [
    "class OperacionRotacion:\n",
    "    \n",
    "    def __init__(self, n, eje, sentido=True):\n",
    "        \"\"\"\n",
    "        Inicialización del Operador de rotacion\n",
    "        \n",
    "        Input: \n",
    "            int n                  -> Tipo de rotación \"n-fold\", dada por 2pi/n\n",
    "            eje[ux, uy, uz]        -> Eje de rotación (unitario) \n",
    "            base                   -> Base para representar la operacion\n",
    "            sentido                -> Sentido de la rotación\n",
    "                                        True: horario;  False: antihorario\n",
    "                                       \n",
    "        \"\"\"\n",
    "        self.eje     = eje\n",
    "        self.n       = n\n",
    "        self.sentido = sentido \n",
    "       \n",
    "    \n",
    "    def RepresentacionMatricial(self):\n",
    "        \"\"\"\n",
    "        Obtiene la representación matricial del operador de rotación\n",
    "        \"\"\"\n",
    "        angulo = 2*np.pi/self.n\n",
    "        \n",
    "        if self.sentido == False: angulo = - angulo\n",
    "    \n",
    "        return MatrizRotacion(angulo, self.eje)\n",
    "    \n",
    "    def Caracter(self):\n",
    "        return np.trace(self.RepresentacionMatricial())\n",
    "    \n",
    "    def CambiarBase(self,nueva_base):\n",
    "        \n",
    "        return CambioBase(self.RepresentacionMatricial(), [[1, 0,0], [0,1,0], [0, 0, 1]], nueva_base)\n",
    "    \n",
    "    \n",
    "    \n",
    "    \n"
   ]
  },
  {
   "cell_type": "code",
   "execution_count": 4,
   "id": "6e0b938d-d5e0-45c5-bf70-d4cc49565559",
   "metadata": {
    "tags": []
   },
   "outputs": [],
   "source": [
    "class OperacionIdentidad:\n",
    "    \n",
    "    def __init__(self, base):\n",
    "        self.base = base\n",
    "       \n",
    "    def RepresentacionMatricial(self):\n",
    "        return np.identity( len(self.base) )\n",
    "    \n",
    "    def Caracter(self):\n",
    "        return np.trace(self.RepresentacionMatricial())\n",
    "    \n",
    "    def Operar(self, element):\n",
    "        return element   "
   ]
  },
  {
   "cell_type": "markdown",
   "id": "871a931d-6929-4018-9906-fe0ac4ddf5de",
   "metadata": {
    "tags": []
   },
   "source": [
    "# Operación de rotación\n",
    "\n"
   ]
  },
  {
   "cell_type": "code",
   "execution_count": 5,
   "id": "ed366535-533d-45bc-a6ee-929b37adc7a6",
   "metadata": {
    "tags": []
   },
   "outputs": [
    {
     "data": {
      "text/plain": [
       "array([[-0.5      , -0.8660254,  0.       ],\n",
       "       [ 0.8660254, -0.5      ,  0.       ],\n",
       "       [ 0.       ,  0.       ,  1.       ]])"
      ]
     },
     "execution_count": 5,
     "metadata": {},
     "output_type": "execute_result"
    }
   ],
   "source": [
    "#Operaciones de rotación alrededor del eje z\n",
    "C1 = OperacionRotacion(n=1, eje=[0, 0, 1])\n",
    "C2 = OperacionRotacion(n=2, eje=[0, 0, 1])\n",
    "C3 = OperacionRotacion(n=3, eje=[0, 0, 1])\n",
    "\n",
    "matriz_C3 = C3.RepresentacionMatricial()\n",
    "matriz_C3"
   ]
  },
  {
   "cell_type": "code",
   "execution_count": 14,
   "id": "180459d6-91ec-4744-892a-59ebfb84fdca",
   "metadata": {
    "tags": []
   },
   "outputs": [
    {
     "data": {
      "text/plain": [
       "array([[ 0.25      , -0.4330127 , -0.4330127 ],\n",
       "       [-1.29903811,  0.25      , -0.75      ],\n",
       "       [ 0.8660254 ,  0.5       , -0.5       ]])"
      ]
     },
     "execution_count": 14,
     "metadata": {},
     "output_type": "execute_result"
    }
   ],
   "source": [
    "base_unitaria = [[1, 0, 0], [0, 1, 0], [0, 0, 1]]\n",
    "angulo = 2*np.pi/3\n",
    "base_2 = [[0, 0, 1], [np.cos(angulo), -np.sin(angulo), 0 ], [-np.cos(angulo), -np.sin(angulo), 0]]\n",
    "\n",
    "C3.CambiarBase(base_2)"
   ]
  },
  {
   "cell_type": "code",
   "execution_count": null,
   "id": "c76237db-82bb-4639-a3c5-9d68303cc56b",
   "metadata": {},
   "outputs": [],
   "source": []
  },
  {
   "cell_type": "markdown",
   "id": "20183d63-0b4d-41c3-8472-5c0f0e8f3850",
   "metadata": {
    "tags": []
   },
   "source": [
    "## Operación de identidad"
   ]
  },
  {
   "cell_type": "code",
   "execution_count": null,
   "id": "4d7208d3-f24f-44ea-8c2d-bb39a1a64c17",
   "metadata": {},
   "outputs": [],
   "source": []
  },
  {
   "cell_type": "code",
   "execution_count": 19,
   "id": "55fac294-4c75-42da-976a-440b1d541947",
   "metadata": {
    "tags": []
   },
   "outputs": [
    {
     "data": {
      "text/plain": [
       "3"
      ]
     },
     "execution_count": 19,
     "metadata": {},
     "output_type": "execute_result"
    }
   ],
   "source": [
    "base_unitaria = [[1, 0, 0], [0, 1, 0], [0, 0, 1] ]\n",
    "len(base_unitaria)"
   ]
  },
  {
   "cell_type": "code",
   "execution_count": 34,
   "id": "1559c075-8fa4-4404-9d7d-7f2750090bba",
   "metadata": {
    "tags": []
   },
   "outputs": [
    {
     "data": {
      "text/plain": [
       "array([[-1.0000000e+00, -1.2246468e-16,  0.0000000e+00],\n",
       "       [ 1.2246468e-16, -1.0000000e+00,  0.0000000e+00],\n",
       "       [ 0.0000000e+00,  0.0000000e+00,  1.0000000e+00]])"
      ]
     },
     "execution_count": 34,
     "metadata": {},
     "output_type": "execute_result"
    }
   ],
   "source": [
    "MatrizRotacion(2*np.pi/2, [0, 0, 1])"
   ]
  },
  {
   "cell_type": "code",
   "execution_count": 15,
   "id": "2f373114-ef11-4d8d-acd0-bb24c3936eca",
   "metadata": {
    "tags": []
   },
   "outputs": [
    {
     "data": {
      "text/plain": [
       "5.0"
      ]
     },
     "execution_count": 15,
     "metadata": {},
     "output_type": "execute_result"
    }
   ],
   "source": [
    "identidad = OperacionIdentidad([1,1,1,1,1])\n",
    "\n",
    "identidad.RepresentacionMatricial()\n",
    "identidad.Caracter()"
   ]
  },
  {
   "cell_type": "code",
   "execution_count": null,
   "id": "46d01f95-4961-4507-9c2e-7d594c86c1c5",
   "metadata": {},
   "outputs": [],
   "source": [
    "class Grupo(self, elementos):\n",
    "    def __init__(self):\n",
    "        self.elementos = elementos\n",
    "    \n",
    "    def __add__(self, grupo2):\n",
    "        if isinstance(grupo2, Grupo):\n",
    "            return Grupo(self.value + other.value)\n",
    "        "
   ]
  },
  {
   "cell_type": "code",
   "execution_count": 28,
   "id": "dbfe2041-31ab-4a26-8178-8c0491430f10",
   "metadata": {
    "tags": []
   },
   "outputs": [],
   "source": [
    "def funcion(**argumento):\n",
    "    print(argumento)\n",
    "    \n"
   ]
  },
  {
   "cell_type": "code",
   "execution_count": 29,
   "id": "8211b6aa-6686-47ea-908f-4e3d4b2afc6b",
   "metadata": {
    "tags": []
   },
   "outputs": [
    {
     "ename": "TypeError",
     "evalue": "funcion() takes 0 positional arguments but 6 were given",
     "output_type": "error",
     "traceback": [
      "\u001b[1;31m---------------------------------------------------------------------------\u001b[0m",
      "\u001b[1;31mTypeError\u001b[0m                                 Traceback (most recent call last)",
      "Cell \u001b[1;32mIn[29], line 1\u001b[0m\n\u001b[1;32m----> 1\u001b[0m \u001b[43mfuncion\u001b[49m\u001b[43m(\u001b[49m\u001b[38;5;241;43m1\u001b[39;49m\u001b[43m,\u001b[49m\u001b[38;5;241;43m2\u001b[39;49m\u001b[43m,\u001b[49m\u001b[38;5;241;43m3\u001b[39;49m\u001b[43m,\u001b[49m\u001b[38;5;241;43m4\u001b[39;49m\u001b[43m,\u001b[49m\u001b[38;5;241;43m5\u001b[39;49m\u001b[43m,\u001b[49m\u001b[38;5;241;43m6\u001b[39;49m\u001b[43m)\u001b[49m\n",
      "\u001b[1;31mTypeError\u001b[0m: funcion() takes 0 positional arguments but 6 were given"
     ]
    }
   ],
   "source": [
    "funcion(1,2,3,4,5,6)"
   ]
  },
  {
   "cell_type": "code",
   "execution_count": 19,
   "id": "6cb602ef-5fc7-409d-b4fa-7ab7ed9f0660",
   "metadata": {
    "tags": []
   },
   "outputs": [],
   "source": [
    "\n",
    "    \n",
    "    "
   ]
  },
  {
   "cell_type": "code",
   "execution_count": 25,
   "id": "1188249b-db25-43b7-978d-73140521e1ea",
   "metadata": {
    "tags": []
   },
   "outputs": [
    {
     "data": {
      "text/plain": [
       "array([[0., 0.],\n",
       "       [0., 2.]])"
      ]
     },
     "execution_count": 25,
     "metadata": {},
     "output_type": "execute_result"
    }
   ],
   "source": [
    "base1 = [[1, 0],[0, 1]]\n",
    "base2 = [[1, 1], [-1, 1]]/np.sqrt(2)\n",
    "\n",
    "T= MatrizTransformacion(base1, base2)\n",
    "A = np.array([[1, 1], [1, 1]])\n",
    "\n",
    "\n"
   ]
  },
  {
   "cell_type": "code",
   "execution_count": 23,
   "id": "cee898ad-1740-483c-8f17-df9b5f254b24",
   "metadata": {
    "tags": []
   },
   "outputs": [
    {
     "data": {
      "text/plain": [
       "array([[ 0.70710678,  0.70710678],\n",
       "       [-0.70710678,  0.70710678]])"
      ]
     },
     "execution_count": 23,
     "metadata": {},
     "output_type": "execute_result"
    }
   ],
   "source": [
    "np.linalg.inv(T)"
   ]
  },
  {
   "cell_type": "code",
   "execution_count": 11,
   "id": "8d1413fb-edb9-4e51-b20c-ed76b291018a",
   "metadata": {
    "tags": []
   },
   "outputs": [
    {
     "data": {
      "text/plain": [
       "array([[ 0.70710678,  0.70710678],\n",
       "       [-0.70710678,  0.70710678]])"
      ]
     },
     "execution_count": 11,
     "metadata": {},
     "output_type": "execute_result"
    }
   ],
   "source": [
    "[[1,1], [-1,1]]/np.sqrt(2)"
   ]
  },
  {
   "cell_type": "code",
   "execution_count": null,
   "id": "7b319cbe-0d9e-4213-9725-caaabcdfacf6",
   "metadata": {},
   "outputs": [],
   "source": []
  }
 ],
 "metadata": {
  "kernelspec": {
   "display_name": "Python 3 (ipykernel)",
   "language": "python",
   "name": "python3"
  },
  "language_info": {
   "codemirror_mode": {
    "name": "ipython",
    "version": 3
   },
   "file_extension": ".py",
   "mimetype": "text/x-python",
   "name": "python",
   "nbconvert_exporter": "python",
   "pygments_lexer": "ipython3",
   "version": "3.11.2"
  }
 },
 "nbformat": 4,
 "nbformat_minor": 5
}
